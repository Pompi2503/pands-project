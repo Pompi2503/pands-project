{
 "cells": [
  {
   "cell_type": "markdown",
   "id": "25a50d67",
   "metadata": {},
   "source": [
    "# Project Irish Datasets"
   ]
  },
  {
   "cell_type": "markdown",
   "id": "b08e7b29",
   "metadata": {},
   "source": [
    "## Summary Statistics of the Iris Datasets"
   ]
  },
  {
   "cell_type": "code",
   "execution_count": 7,
   "id": "af371350",
   "metadata": {},
   "outputs": [
    {
     "name": "stdout",
     "output_type": "stream",
     "text": [
      "Analysis complete. Outputs saved.\n"
     ]
    }
   ],
   "source": [
    "import pandas as pd\n",
    "import seaborn as sns\n",
    "import matplotlib.pyplot as plt\n",
    "import itertools\n",
    "import os\n",
    "\n",
    "# Load dataset\n",
    "iris = sns.load_dataset('iris')\n",
    "\n",
    "# Save to CSV (if needed)\n",
    "iris.to_csv('iris.csv', index=False)\n",
    "\n",
    "# Create output directories\n",
    "os.makedirs('plots', exist_ok=True)\n",
    "\n",
    "# Summary stats\n",
    "summary = iris.describe()\n",
    "summary.to_csv('variable_summary.txt', sep='\\t')\n",
    "\n",
    "# Histograms\n",
    "for column in iris.columns[:-1]:\n",
    "    plt.figure()\n",
    "    sns.histplot(iris[column], kde=True, bins=20)\n",
    "    plt.title(f'Histogram of {column}')\n",
    "    plt.savefig(f'plots/histogram_{column}.png')\n",
    "    plt.close()\n",
    "\n",
    "# Scatter plots for all pairs\n",
    "for x, y in itertools.combinations(iris.columns[:-1], 2):\n",
    "    plt.figure()\n",
    "    sns.scatterplot(data=iris, x=x, y=y, hue='species')\n",
    "    plt.title(f'Scatter Plot: {x} vs {y}')\n",
    "    plt.savefig(f'plots/scatter_{x}_vs_{y}.png')\n",
    "    plt.close()\n",
    "\n",
    "print(\"Analysis complete. Outputs saved.\")"
   ]
  },
  {
   "cell_type": "markdown",
   "id": "54cd79de",
   "metadata": {},
   "source": [
    "## Prepare Histograms"
   ]
  },
  {
   "cell_type": "markdown",
   "id": "c0bc1919",
   "metadata": {},
   "source": [
    "## Prepare Scatter Plot \n"
   ]
  },
  {
   "cell_type": "markdown",
   "id": "8ac2340a",
   "metadata": {},
   "source": [
    "## Observations\n",
    "explain how data sepa width and patal legnth acry acriss class, can that be used to disgtingu clases , which class is diff to any other and uniqe attribte "
   ]
  },
  {
   "cell_type": "markdown",
   "id": "d42237b1",
   "metadata": {},
   "source": [
    "## Learning Outcomes\n",
    "- esplain what you used libraries and what for data cleanin what for visualisation and how write code and used it for anakysis, how explain stats summary like rationship between\n",
    " variables."
   ]
  },
  {
   "cell_type": "markdown",
   "id": "f69e59bb",
   "metadata": {},
   "source": []
  }
 ],
 "metadata": {
  "kernelspec": {
   "display_name": "Python 3",
   "language": "python",
   "name": "python3"
  },
  "language_info": {
   "codemirror_mode": {
    "name": "ipython",
    "version": 3
   },
   "file_extension": ".py",
   "mimetype": "text/x-python",
   "name": "python",
   "nbconvert_exporter": "python",
   "pygments_lexer": "ipython3",
   "version": "3.12.1"
  }
 },
 "nbformat": 4,
 "nbformat_minor": 5
}
