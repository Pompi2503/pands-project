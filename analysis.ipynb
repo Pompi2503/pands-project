{
 "cells": [
  {
   "cell_type": "markdown",
   "id": "25a50d67",
   "metadata": {},
   "source": [
    "# Project Irish Datasets"
   ]
  },
  {
   "cell_type": "markdown",
   "id": "b08e7b29",
   "metadata": {},
   "source": [
    "## Summary Statistics of the Iris Datasets"
   ]
  },
  {
   "cell_type": "markdown",
   "id": "54cd79de",
   "metadata": {},
   "source": [
    "## Prepare Histograms"
   ]
  },
  {
   "cell_type": "markdown",
   "id": "c0bc1919",
   "metadata": {},
   "source": [
    "## Prepare Scatter Plot \n"
   ]
  },
  {
   "cell_type": "markdown",
   "id": "8ac2340a",
   "metadata": {},
   "source": [
    "## Observations\n",
    "explain how data sepa width and patal legnth acry acriss class, can that be used to disgtingu clases , which class is diff to any other and uniqe attribte "
   ]
  },
  {
   "cell_type": "markdown",
   "id": "d42237b1",
   "metadata": {},
   "source": [
    "## Learning Outcomes\n",
    "- esplain what you used libraries and what for data cleanin what for visualisation and how write code and used it for anakysis, how explain stats summary like rationshi betwee variabvels "
   ]
  },
  {
   "cell_type": "markdown",
   "id": "f69e59bb",
   "metadata": {},
   "source": []
  }
 ],
 "metadata": {
  "language_info": {
   "name": "python"
  }
 },
 "nbformat": 4,
 "nbformat_minor": 5
}
